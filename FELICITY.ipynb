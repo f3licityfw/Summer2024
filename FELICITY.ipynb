{
 "cells": [
  {
   "cell_type": "code",
   "execution_count": null,
   "id": "e4b6e01d-bcaa-4fa0-98e9-e8f1b911f539",
   "metadata": {},
   "outputs": [],
   "source": [
    "import sys\n",
    "sys.path.append('/Users/felicity/Downloads/xta') # path to xta\n",
    "import os, sys\n",
    "from xta import xta_sim"
   ]
  },
  {
   "cell_type": "code",
   "execution_count": null,
   "id": "ffb14e0e-4388-4f4a-a346-e3b5ad59835b",
   "metadata": {},
   "outputs": [],
   "source": [
    "import os, sys\n",
    "import numpy as np\n",
    "import matplotlib.pyplot as plt\n",
    "#plt.style.use('petrstyle.txt')\n",
    "from matplotlib.ticker import NullFormatter\n",
    "import glob, h5py\n",
    "import shutil\n",
    "import scipy.io\n",
    "import pandas as pd\n",
    "import pydicom as dicom\n",
    "#import cv2\n",
    "\n",
    "from astra import Astra#, template_dir\n",
    "from astra.plot import plot_fieldmaps, plot_stats, plot_stats_with_layout\n",
    "import distgen\n",
    "from distgen import Generator\n",
    "from distgen.writers import *\n",
    "from pmd_beamphysics import ParticleGroup\n",
    "from pmd_beamphysics.plot import marginal_plot\n",
    "\n",
    "#slice plots\n",
    "# from h5py import File\n",
    "# from pmd_beamphysics.interfaces import opal\n",
    "# from pmd_beamphysics.plot import slice_plot\n",
    "# from pmd_beamphysics.plot import marginal_plot, density_plot"
   ]
  },
  {
   "cell_type": "markdown",
   "id": "89565f6a-2166-4c45-a1fb-b04b4b36b60a",
   "metadata": {},
   "source": [
    "# Generating electron distribution with tumor image"
   ]
  },
  {
   "cell_type": "code",
   "execution_count": null,
   "id": "e1fe43e0-e5cc-4a2c-8515-cc5f03067a29",
   "metadata": {},
   "outputs": [],
   "source": [
    "tumor1='/Users/felicity/Downloads/field1/field1.jpg'"
   ]
  },
  {
   "cell_type": "markdown",
   "id": "bdfcac7c-f692-4b47-9410-6c9ebae25a5b",
   "metadata": {},
   "source": [
    "## Electron Distribution Generation"
   ]
  },
  {
   "cell_type": "code",
   "execution_count": null,
   "id": "cbfab25a-c3b6-4010-967e-16a1d7464d52",
   "metadata": {},
   "outputs": [],
   "source": [
    "def generate_dist(dist_file):\n",
    "\n",
    "    # dist_file = '/Users/felicity/downloads/field1/field1.dcm'\n",
    "    dist = Generator(dist_file, verbose=False)\n",
    "    \n",
    "    dist.input['xy_dist']['file'] = tumor1 #dcm_crop(dcm_path)\n",
    "    dist.input['n_particle'] = int(1e4)\n",
    "    dist.input['start']['MTE']['value'] = 130 #330\n",
    "    \n",
    "    \n",
    "    fwhm = 0.06/2.355 # 60 fs = 0.06 ps\n",
    "    dist.input['t_dist']['sigma_t']['value'] = fwhm\n",
    "    \n",
    "    dist.input['total_charge']['value'] = 1\n",
    "    \n",
    "        # dist.input['r_dist']['max_r']['value'] = 0.5\n",
    "        \n",
    "    dist.run()\n",
    "    particles = dist.particles \n",
    "    #particles.write_astra('xta/astra-inputs/astra_particles.txt')\n",
    "    #particles.write_astra('xta/astra-inputs/field1.jpg')\n",
    "    \n",
    "    return particles, dist"
   ]
  },
  {
   "cell_type": "code",
   "execution_count": null,
   "id": "61e90bca-8783-438d-8f63-adc6e9026a06",
   "metadata": {},
   "outputs": [],
   "source": [
    "dist_file = '/Users/felicity/downloads/xta/astra-inputs/distgen.yaml'"
   ]
  },
  {
   "cell_type": "code",
   "execution_count": null,
   "id": "e0700794-4764-4d02-9fd0-842a066ef98a",
   "metadata": {},
   "outputs": [],
   "source": []
  }
 ],
 "metadata": {
  "kernelspec": {
   "display_name": "Python 3 (ipykernel)",
   "language": "python",
   "name": "python3"
  },
  "language_info": {
   "codemirror_mode": {
    "name": "ipython",
    "version": 3
   },
   "file_extension": ".py",
   "mimetype": "text/x-python",
   "name": "python",
   "nbconvert_exporter": "python",
   "pygments_lexer": "ipython3",
   "version": "3.12.4"
  }
 },
 "nbformat": 4,
 "nbformat_minor": 5
}
